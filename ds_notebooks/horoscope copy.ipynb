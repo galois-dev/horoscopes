{
 "cells": [
  {
   "cell_type": "code",
   "execution_count": 1,
   "metadata": {},
   "outputs": [],
   "source": [
    "import pandas as pd\n",
    "import numpy as np\n",
    "import matplotlib.pyplot as plt\n",
    "import tensorflow as tf\n",
    "import tensorflow.keras as keras"
   ]
  },
  {
   "cell_type": "code",
   "execution_count": 2,
   "metadata": {},
   "outputs": [],
   "source": [
    "text = open('./horoscopes1/horoscopes.csv', 'r', encoding=\"utf8\").read()\n",
    "text = text.split(\"\\n\")\n",
    "res_text = \"\"\n",
    "for line in text:\n",
    "    if(len(line.split(\"|\")) >= 2 and len(line) > 0):\n",
    "        res_text += line.split(\"|\")[1] + \" \"\n",
    "text = res_text"
   ]
  },
  {
   "cell_type": "code",
   "execution_count": 3,
   "metadata": {},
   "outputs": [],
   "source": [
    "tokenizer = tf.keras.preprocessing.text.Tokenizer(char_level=True)\n",
    "tokenizer.fit_on_texts(text)\n"
   ]
  },
  {
   "cell_type": "code",
   "execution_count": 4,
   "metadata": {},
   "outputs": [
    {
     "name": "stdout",
     "output_type": "stream",
     "text": [
      "56\n",
      "3020120\n"
     ]
    }
   ],
   "source": [
    "max_id = len(tokenizer.word_index)\n",
    "dataset_size = tokenizer.document_count\n",
    "print(max_id)\n",
    "print(dataset_size)"
   ]
  },
  {
   "cell_type": "code",
   "execution_count": 5,
   "metadata": {},
   "outputs": [],
   "source": [
    "[encoded] = np.array(tokenizer.texts_to_sequences([text])) - 1"
   ]
  },
  {
   "cell_type": "code",
   "execution_count": 6,
   "metadata": {},
   "outputs": [],
   "source": [
    "train_size = dataset_size * 90 // 100"
   ]
  },
  {
   "cell_type": "code",
   "execution_count": 7,
   "metadata": {},
   "outputs": [],
   "source": [
    "dataset = tf.data.Dataset.from_tensor_slices(encoded[:train_size])"
   ]
  },
  {
   "cell_type": "code",
   "execution_count": 8,
   "metadata": {},
   "outputs": [],
   "source": [
    "n_steps = 100\n",
    "window_length = n_steps + 1\n",
    "dataset = dataset.window(window_length, shift=1, drop_remainder=True)"
   ]
  },
  {
   "cell_type": "code",
   "execution_count": 9,
   "metadata": {},
   "outputs": [],
   "source": [
    "dataset = dataset.flat_map(lambda window: window.batch(window_length))"
   ]
  },
  {
   "cell_type": "code",
   "execution_count": 10,
   "metadata": {},
   "outputs": [],
   "source": [
    "batch_size = 128\n",
    "dataset = dataset.shuffle(buffer_size=batch_size * window_length).batch(batch_size).prefetch(1)\n",
    "dataset = dataset.map(lambda windows: (windows[:,:-1], windows[:,1:]))\n"
   ]
  },
  {
   "cell_type": "code",
   "execution_count": 11,
   "metadata": {},
   "outputs": [],
   "source": [
    "dataset = dataset.map(\n",
    "    lambda X, Y:  (tf.one_hot(X, depth=max_id), Y)) \n",
    "dataset = dataset.prefetch(1)"
   ]
  },
  {
   "cell_type": "code",
   "execution_count": 32,
   "metadata": {},
   "outputs": [
    {
     "name": "stdout",
     "output_type": "stream",
     "text": [
      "WARNING:tensorflow:Layer gru_10 will not use cuDNN kernels since it doesn't meet the criteria. It will use a generic GPU kernel as fallback when running on GPU.\n",
      "WARNING:tensorflow:Layer gru_11 will not use cuDNN kernels since it doesn't meet the criteria. It will use a generic GPU kernel as fallback when running on GPU.\n",
      "Epoch 1/10\n",
      "128/128 [==============================] - 106s 796ms/step - loss: 2.7779\n",
      "Epoch 2/10\n",
      "128/128 [==============================] - 101s 789ms/step - loss: 2.0620\n",
      "Epoch 3/10\n",
      "128/128 [==============================] - 102s 802ms/step - loss: 1.7800\n",
      "Epoch 4/10\n",
      "128/128 [==============================] - 99s 775ms/step - loss: 1.5942\n",
      "Epoch 5/10\n",
      "128/128 [==============================] - 99s 775ms/step - loss: 1.4861\n",
      "Epoch 6/10\n",
      "128/128 [==============================] - 101s 793ms/step - loss: 1.3808\n",
      "Epoch 7/10\n",
      " 73/128 [================>.............] - ETA: 44s - loss: 1.3194"
     ]
    }
   ],
   "source": [
    "model = keras.models.Sequential([\n",
    "    keras.layers.GRU(512, return_sequences=True, input_shape=[None, max_id], dropout=0.2, recurrent_dropout=0.3),\n",
    "    keras.layers.GRU(512, return_sequences=True, dropout=0.2, recurrent_dropout=0.3),\n",
    "    keras.layers.GRU(512, return_sequences=True, dropout=0.2, recurrent_dropout=0.3),\n",
    "    keras.layers.GRU(512, return_sequences=True, dropout=0.2, recurrent_dropout=0.3),\n",
    "    keras.layers.GRU(512, return_sequences=True, dropout=0.2, recurrent_dropout=0.3),\n",
    "    keras.layers.GRU(512, return_sequences=True, dropout=0.2, recurrent_dropout=0.3),\n",
    "    keras.layers.GRU(512, return_sequences=True, dropout=0.2, recurrent_dropout=0.3),\n",
    "    keras.layers.GRU(512, return_sequences=True, dropout=0.2, recurrent_dropout=0.3),\n",
    "    keras.layers.GRU(512, return_sequences=True, dropout=0.2, recurrent_dropout=0.3),\n",
    "    keras.layers.TimeDistributed(keras.layers.Dense(512, activation='softmax'))\n",
    "])\n",
    "model.compile(loss='sparse_categorical_crossentropy', optimizer='adam')\n",
    "history = model.fit(dataset, epochs=10, steps_per_epoch=128)\n"
   ]
  },
  {
   "cell_type": "code",
   "execution_count": 16,
   "metadata": {},
   "outputs": [
    {
     "ename": "NameError",
     "evalue": "name 'history' is not defined",
     "output_type": "error",
     "traceback": [
      "\u001b[1;31m---------------------------------------------------------------------------\u001b[0m",
      "\u001b[1;31mNameError\u001b[0m                                 Traceback (most recent call last)",
      "\u001b[1;32m~\\AppData\\Local\\Temp/ipykernel_29892/4239469491.py\u001b[0m in \u001b[0;36m<module>\u001b[1;34m\u001b[0m\n\u001b[0;32m      1\u001b[0m \u001b[1;31m# Plot loss from keras history object\u001b[0m\u001b[1;33m\u001b[0m\u001b[1;33m\u001b[0m\u001b[0m\n\u001b[1;32m----> 2\u001b[1;33m \u001b[0mloss\u001b[0m \u001b[1;33m=\u001b[0m \u001b[0mhistory\u001b[0m\u001b[1;33m.\u001b[0m\u001b[0mhistory\u001b[0m\u001b[1;33m[\u001b[0m\u001b[1;34m'loss'\u001b[0m\u001b[1;33m]\u001b[0m\u001b[1;33m\u001b[0m\u001b[1;33m\u001b[0m\u001b[0m\n\u001b[0m\u001b[0;32m      3\u001b[0m \u001b[1;33m\u001b[0m\u001b[0m\n\u001b[0;32m      4\u001b[0m \u001b[1;32mimport\u001b[0m \u001b[0mmatplotlib\u001b[0m\u001b[1;33m.\u001b[0m\u001b[0mpyplot\u001b[0m \u001b[1;32mas\u001b[0m \u001b[0mplt\u001b[0m\u001b[1;33m\u001b[0m\u001b[1;33m\u001b[0m\u001b[0m\n\u001b[0;32m      5\u001b[0m \u001b[1;32mimport\u001b[0m \u001b[0mmath\u001b[0m\u001b[1;33m\u001b[0m\u001b[1;33m\u001b[0m\u001b[0m\n",
      "\u001b[1;31mNameError\u001b[0m: name 'history' is not defined"
     ]
    }
   ],
   "source": [
    "# Plot loss from keras history object\n",
    "loss = history.history['loss']\n",
    "\n",
    "import matplotlib.pyplot as plt\n",
    "import math\n",
    "\n",
    "plt.plot(range(3), [math.log(x) for x in loss], 'bo')\n",
    "plt.title('loss')\n",
    "plt.legend()\n",
    "\n",
    "plt.show()"
   ]
  },
  {
   "cell_type": "code",
   "execution_count": 17,
   "metadata": {},
   "outputs": [],
   "source": [
    "def preprocess(text):\n",
    "    x = np.array(tokenizer.texts_to_sequences(text)) -1\n",
    "    return tf.one_hot(x,max_id)"
   ]
  },
  {
   "cell_type": "code",
   "execution_count": 18,
   "metadata": {},
   "outputs": [],
   "source": [
    "X_new = preprocess([\"How are you\"])\n"
   ]
  },
  {
   "cell_type": "code",
   "execution_count": 19,
   "metadata": {},
   "outputs": [],
   "source": [
    "Y_pred = model.predict(X_new)\n"
   ]
  },
  {
   "cell_type": "code",
   "execution_count": 20,
   "metadata": {},
   "outputs": [],
   "source": [
    "def next_char(text, temperature=1):\n",
    "    X_new = preprocess([text])\n",
    "    Y_proba = model.predict(X_new)[0, -1:, :]\n",
    "    rescaled_logits = tf.math.log(Y_proba) / temperature\n",
    "    char_id = tf.random.categorical(rescaled_logits, num_samples=1) + 1\n",
    "    return tokenizer.sequences_to_texts(char_id.numpy())[0]\n",
    "def complete_text(text, n_chars=100,temperature=1):\n",
    "    for _ in range(n_chars):\n",
    "        text += next_char(text, temperature)\n",
    "    return text"
   ]
  },
  {
   "cell_type": "code",
   "execution_count": 21,
   "metadata": {},
   "outputs": [
    {
     "data": {
      "text/plain": [
       "array([[[1.9306834e-01, 9.5128044e-02, 7.3773041e-02, ...,\n",
       "         2.8459131e-05, 6.8560212e-06, 1.4775235e-05],\n",
       "        [1.9463417e-01, 9.4684444e-02, 7.4760973e-02, ...,\n",
       "         1.0178546e-05, 4.1863195e-06, 5.3857780e-06],\n",
       "        [1.9370756e-01, 9.6078984e-02, 7.5441375e-02, ...,\n",
       "         9.0966905e-06, 4.1445769e-06, 4.8564011e-06],\n",
       "        ...,\n",
       "        [1.9214484e-01, 9.6883751e-02, 7.6571256e-02, ...,\n",
       "         8.7617655e-06, 4.1808394e-06, 4.7089452e-06],\n",
       "        [1.9212973e-01, 9.6886754e-02, 7.6575391e-02, ...,\n",
       "         8.7579356e-06, 4.1816156e-06, 4.7077669e-06],\n",
       "        [1.9212520e-01, 9.6885636e-02, 7.6576643e-02, ...,\n",
       "         8.7552571e-06, 4.1821027e-06, 4.7068115e-06]]], dtype=float32)"
      ]
     },
     "execution_count": 21,
     "metadata": {},
     "output_type": "execute_result"
    }
   ],
   "source": [
    "model.predict(preprocess([\"How are you\"]))"
   ]
  },
  {
   "cell_type": "code",
   "execution_count": 30,
   "metadata": {},
   "outputs": [
    {
     "data": {
      "text/plain": [
       "'fo t et msh'"
      ]
     },
     "execution_count": 30,
     "metadata": {},
     "output_type": "execute_result"
    }
   ],
   "source": [
    "complete_text(\"f\",10,temperature=0.7)"
   ]
  },
  {
   "cell_type": "code",
   "execution_count": 29,
   "metadata": {},
   "outputs": [],
   "source": []
  },
  {
   "cell_type": "code",
   "execution_count": null,
   "metadata": {},
   "outputs": [],
   "source": []
  }
 ],
 "metadata": {
  "interpreter": {
   "hash": "35678ab0d1ef20bec7230e049e236235b4e13e461f1e778789fc7e892ffb8a22"
  },
  "kernelspec": {
   "display_name": "Python 3.10.0 32-bit",
   "language": "python",
   "name": "python3"
  },
  "language_info": {
   "codemirror_mode": {
    "name": "ipython",
    "version": 3
   },
   "file_extension": ".py",
   "mimetype": "text/x-python",
   "name": "python",
   "nbconvert_exporter": "python",
   "pygments_lexer": "ipython3",
   "version": "3.9.7"
  },
  "orig_nbformat": 4
 },
 "nbformat": 4,
 "nbformat_minor": 2
}
